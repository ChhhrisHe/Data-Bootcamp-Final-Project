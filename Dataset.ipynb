{
  "nbformat": 4,
  "nbformat_minor": 0,
  "metadata": {
    "colab": {
      "provenance": []
    },
    "kernelspec": {
      "name": "python3",
      "display_name": "Python 3"
    },
    "language_info": {
      "name": "python"
    }
  },
  "cells": [
    {
      "cell_type": "markdown",
      "source": [
        "# Download Dataset\n",
        "\n",
        "The CSV files are too large to be stored directly on GitHub due to the 100MB upload limit.\n",
        "Instead, we host them on Google Drive and download them as needed using gdown.\n",
        "\n"
      ],
      "metadata": {
        "id": "PmEAacjglG8S"
      }
    },
    {
      "cell_type": "code",
      "execution_count": 1,
      "metadata": {
        "id": "E25ZVigkk9o1"
      },
      "outputs": [],
      "source": [
        "# Install gdown if not already available\n",
        "!pip install -q gdown"
      ]
    },
    {
      "cell_type": "code",
      "source": [
        "# Create a 'data' folder to store the downloaded files\n",
        "import os\n",
        "os.makedirs(\"data\", exist_ok=True)"
      ],
      "metadata": {
        "id": "MLKB13cOlEY5"
      },
      "execution_count": 2,
      "outputs": []
    },
    {
      "cell_type": "code",
      "source": [
        "# Download cleaned dataset\n",
        "import gdown\n",
        "url_cleaned = \"https://drive.google.com/uc?id=1P_mDj05u8o7Qc1Hms6xHT2uO_bu0jCpG\"\n",
        "output_cleaned = \"data/google_playstore_apps_cleaned.csv\"\n",
        "gdown.download(url_cleaned, output_cleaned, quiet=False)\n",
        "\n",
        "# Download original dataset\n",
        "url_original = \"https://drive.google.com/uc?id=1BVN5Lv0xQBnCrtJuopN30GJdvZGHUyGy\"\n",
        "output_original = \"data/Google-Playstore.csv\"\n",
        "gdown.download(url_original, output_original, quiet=False)\n",
        "\n",
        "print(\"Datasets downloaded successfully into the 'data/' folder.\")"
      ],
      "metadata": {
        "colab": {
          "base_uri": "https://localhost:8080/"
        },
        "id": "fdc8Svj3lVYx",
        "outputId": "bb27f085-be86-4907-b659-1f480ba16761"
      },
      "execution_count": 4,
      "outputs": [
        {
          "output_type": "stream",
          "name": "stderr",
          "text": [
            "Downloading...\n",
            "From (original): https://drive.google.com/uc?id=1P_mDj05u8o7Qc1Hms6xHT2uO_bu0jCpG\n",
            "From (redirected): https://drive.google.com/uc?id=1P_mDj05u8o7Qc1Hms6xHT2uO_bu0jCpG&confirm=t&uuid=ad5ab243-2eda-4847-b204-5bbb770aa90f\n",
            "To: /content/data/google_playstore_apps_cleaned.csv\n",
            "100%|██████████| 375M/375M [00:01<00:00, 194MB/s]\n",
            "Downloading...\n",
            "From (original): https://drive.google.com/uc?id=1BVN5Lv0xQBnCrtJuopN30GJdvZGHUyGy\n",
            "From (redirected): https://drive.google.com/uc?id=1BVN5Lv0xQBnCrtJuopN30GJdvZGHUyGy&confirm=t&uuid=e2ffc9f8-8724-435d-9b50-9012276dfb45\n",
            "To: /content/data/Google-Playstore.csv\n",
            "100%|██████████| 676M/676M [00:06<00:00, 102MB/s]"
          ]
        },
        {
          "output_type": "stream",
          "name": "stdout",
          "text": [
            "Datasets downloaded successfully into the 'data/' folder.\n"
          ]
        },
        {
          "output_type": "stream",
          "name": "stderr",
          "text": [
            "\n"
          ]
        }
      ]
    }
  ]
}